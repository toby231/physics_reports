{
 "cells": [
  {
   "cell_type": "code",
   "execution_count": 1,
   "id": "23ab63e4",
   "metadata": {},
   "outputs": [],
   "source": [
    "import sympy as sym \n",
    "import numpy as np "
   ]
  },
  {
   "cell_type": "code",
   "execution_count": 7,
   "id": "509b63bf",
   "metadata": {},
   "outputs": [
    {
     "data": {
      "text/plain": [
       "4.979341998390442e-05"
      ]
     },
     "execution_count": 7,
     "metadata": {},
     "output_type": "execute_result"
    }
   ],
   "source": [
    "E = 2.179e-18\n",
    "m = 9.109e-31\n",
    "c = 3e8\n",
    "def energy(n,j):\n",
    "    En = E/n**2\n",
    "    return (En**2/(2*m*c**2)*(3-4*n/(j+0.5)))/1.602e-19\n",
    "\n",
    "energy(3,3/2) - energy(2,1/2)"
   ]
  }
 ],
 "metadata": {
  "kernelspec": {
   "display_name": "base",
   "language": "python",
   "name": "python3"
  },
  "language_info": {
   "codemirror_mode": {
    "name": "ipython",
    "version": 3
   },
   "file_extension": ".py",
   "mimetype": "text/x-python",
   "name": "python",
   "nbconvert_exporter": "python",
   "pygments_lexer": "ipython3",
   "version": "3.12.4"
  }
 },
 "nbformat": 4,
 "nbformat_minor": 5
}

{
 "cells": [
  {
   "cell_type": "code",
   "execution_count": 9,
   "metadata": {},
   "outputs": [],
   "source": [
    "import statistics as stat\n",
    "import numpy as np"
   ]
  },
  {
   "cell_type": "markdown",
   "metadata": {},
   "source": [
    "## Adiabatic Equation"
   ]
  },
  {
   "cell_type": "code",
   "execution_count": 10,
   "metadata": {},
   "outputs": [],
   "source": [
    "# Constants\n",
    "g = 9.8\n",
    "V = 1.155*10**-3\n",
    "R = 5.95*10**-3\n",
    "T = 22.7 + 273\n",
    "M = 4.598 * 10**-3\n",
    "P = 1020.9 * 100 + (M*g)/(np.pi*R**2)"
   ]
  },
  {
   "cell_type": "code",
   "execution_count": 11,
   "metadata": {},
   "outputs": [],
   "source": [
    "def chi(t,m=M,V=V,P=P,r=R):\n",
    "    tau = t/300  \n",
    "    return (4*m*V)/(P*r**4*tau**2)\n",
    "def erlang_stdev(t,k=300):\n",
    "    return np.sqrt(k)*t/k\n",
    "def chither(f):\n",
    "    return 1 + 2/f"
   ]
  },
  {
   "cell_type": "markdown",
   "metadata": {},
   "source": [
    "## Results"
   ]
  },
  {
   "cell_type": "code",
   "execution_count": 17,
   "metadata": {},
   "outputs": [
    {
     "name": "stdout",
     "output_type": "stream",
     "text": [
      "1.3715914143614976 0.07918886722997902\n",
      "1.4\n",
      "0.02840858563850235\n"
     ]
    }
   ],
   "source": [
    "# Air\n",
    "\n",
    "air = [103,104,104,104,107,104,104,104,104,104,104,104]\n",
    "\n",
    "avg_air = sum(air)/len(air)\n",
    "print(chi(avg_air),(erlang_stdev(avg_air)/avg_air)*chi(avg_air))\n",
    "print(chither(5))\n",
    "print(chither(5) - chi(avg_air))"
   ]
  },
  {
   "cell_type": "code",
   "execution_count": 16,
   "metadata": {},
   "outputs": [
    {
     "name": "stdout",
     "output_type": "stream",
     "text": [
      "1.3947027230024869 0.08052319925649898\n",
      "1.4\n",
      "0.005297276997513034\n"
     ]
    }
   ],
   "source": [
    "# N2\n",
    "\n",
    "n2 = [104,103,103,103,103,103,103,103,104,104]\n",
    "avg_n2 = sum(n2)/len(n2)\n",
    "print(chi(avg_n2),erlang_stdev(avg_n2)/avg_n2 * chi(avg_n2))\n",
    "print(chither(5))\n",
    "print(chither(5) - chi(avg_n2))"
   ]
  },
  {
   "cell_type": "code",
   "execution_count": 15,
   "metadata": {},
   "outputs": [
    {
     "name": "stdout",
     "output_type": "stream",
     "text": [
      "1.2950684433354454 0.0747708114378709\n",
      "1.2857142857142856\n",
      "-0.009354157621159764\n"
     ]
    }
   ],
   "source": [
    "# CO2\n",
    "\n",
    "co2 = [105,106,106,106,107,106,107,118,107,108,108,106,106,106,106]\n",
    "avg_co2 = sum(co2)/len(co2)\n",
    "print(chi(avg_co2),erlang_stdev(avg_co2) / avg_co2 * chi(avg_co2))\n",
    "print(chither(7))\n",
    "print(chither(7) - chi(avg_co2))"
   ]
  }
 ],
 "metadata": {
  "kernelspec": {
   "display_name": "Python 3",
   "language": "python",
   "name": "python3"
  },
  "language_info": {
   "codemirror_mode": {
    "name": "ipython",
    "version": 3
   },
   "file_extension": ".py",
   "mimetype": "text/x-python",
   "name": "python",
   "nbconvert_exporter": "python",
   "pygments_lexer": "ipython3",
   "version": "3.12.0"
  }
 },
 "nbformat": 4,
 "nbformat_minor": 2
}
